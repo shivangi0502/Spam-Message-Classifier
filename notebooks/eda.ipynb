{
 "cells": [
  {
   "cell_type": "code",
   "execution_count": 6,
   "id": "7de2ee09",
   "metadata": {},
   "outputs": [],
   "source": [
    "import os\n",
    "import sys\n",
    "import pandas as pd\n",
    "import matplotlib.pyplot as plt\n",
    "import seaborn as sns\n",
    "import nltk"
   ]
  },
  {
   "cell_type": "code",
   "execution_count": 7,
   "id": "45d6ac4e",
   "metadata": {},
   "outputs": [
    {
     "name": "stdout",
     "output_type": "stream",
     "text": [
      "Project root added to sys.path: c:\\Users\\asus\\OneDrive\\Desktop\\projects\\spam_classifier\n",
      "Current sys.path:\n",
      "  c:\\Users\\asus\\OneDrive\\Desktop\\projects\\spam_classifier\n",
      "  c:\\Users\\asus\\anaconda3\\python313.zip\n",
      "  c:\\Users\\asus\\anaconda3\\DLLs\n",
      "  c:\\Users\\asus\\anaconda3\\Lib\n",
      "  c:\\Users\\asus\\anaconda3\n",
      "  \n",
      "  c:\\Users\\asus\\anaconda3\\Lib\\site-packages\n",
      "  c:\\Users\\asus\\anaconda3\\Lib\\site-packages\\win32\n",
      "  c:\\Users\\asus\\anaconda3\\Lib\\site-packages\\win32\\lib\n",
      "  c:\\Users\\asus\\anaconda3\\Lib\\site-packages\\Pythonwin\n",
      "clean_text is callable and loaded successfully.\n"
     ]
    }
   ],
   "source": [
    "try:\n",
    "    notebook_path = os.path.abspath('')\n",
    "except NameError:\n",
    "    notebook_path = os.getcwd()\n",
    "project_root = os.path.abspath(os.path.join(notebook_path, '..'))\n",
    "if project_root not in sys.path:\n",
    "    sys.path.insert(0, project_root)\n",
    "\n",
    "print(f\"Project root added to sys.path: {project_root}\")\n",
    "print(\"Current sys.path:\")\n",
    "for p in sys.path:\n",
    "    print(f\"  {p}\")\n",
    "\n",
    "# Download NLTK stopwords (if not already downloaded)\n",
    "try:\n",
    "    nltk.data.find('corpora/stopwords')\n",
    "except LookupError:\n",
    "    nltk.download('stopwords')\n",
    "\n",
    "# Import clean_text from your src module\n",
    "from src.preprocess import clean_text\n",
    "\n",
    "if 'clean_text' in locals() and callable(clean_text):\n",
    "    print(\"clean_text is callable and loaded successfully.\")\n",
    "else:\n",
    "    print(\"Error: clean_text is not defined or not callable after import.\")\n"
   ]
  },
  {
   "cell_type": "code",
   "execution_count": 8,
   "id": "6d320a4e",
   "metadata": {},
   "outputs": [],
   "source": [
    "data_path = os.path.join(project_root, 'data', 'spam.csv')\n",
    "df = pd.read_csv(data_path, sep='\\t', header=None, names=['label', 'message'])"
   ]
  },
  {
   "cell_type": "code",
   "execution_count": 9,
   "id": "5288fe68",
   "metadata": {},
   "outputs": [
    {
     "name": "stdout",
     "output_type": "stream",
     "text": [
      "  label                                            message\n",
      "0   ham  Go until jurong point, crazy.. Available only ...\n",
      "1   ham                      Ok lar... Joking wif u oni...\n",
      "2  spam  Free entry in 2 a wkly comp to win FA Cup fina...\n",
      "3   ham  U dun say so early hor... U c already then say...\n",
      "4   ham  Nah I don't think he goes to usf, he lives aro...\n"
     ]
    }
   ],
   "source": [
    "print(df.head())"
   ]
  },
  {
   "cell_type": "code",
   "execution_count": 10,
   "id": "2dd08f75",
   "metadata": {},
   "outputs": [
    {
     "name": "stdout",
     "output_type": "stream",
     "text": [
      "<class 'pandas.core.frame.DataFrame'>\n",
      "RangeIndex: 5572 entries, 0 to 5571\n",
      "Data columns (total 2 columns):\n",
      " #   Column   Non-Null Count  Dtype \n",
      "---  ------   --------------  ----- \n",
      " 0   label    5572 non-null   object\n",
      " 1   message  5572 non-null   object\n",
      "dtypes: object(2)\n",
      "memory usage: 87.2+ KB\n"
     ]
    }
   ],
   "source": [
    "df.info()"
   ]
  },
  {
   "cell_type": "code",
   "execution_count": 11,
   "id": "c720d1ad",
   "metadata": {},
   "outputs": [
    {
     "name": "stderr",
     "output_type": "stream",
     "text": [
      "C:\\Users\\asus\\AppData\\Local\\Temp\\ipykernel_30592\\883992361.py:2: FutureWarning: \n",
      "\n",
      "Passing `palette` without assigning `hue` is deprecated and will be removed in v0.14.0. Assign the `x` variable to `hue` and set `legend=False` for the same effect.\n",
      "\n",
      "  sns.countplot(x='label', data=df, palette = 'viridis')\n"
     ]
    },
    {
     "data": {
      "image/png": "[encoded data removed]",
      "text/plain": [
       "<Figure size 600x400 with 1 Axes>"
      ]
     },
     "metadata": {},
     "output_type": "display_data"
    }
   ],
   "source": [
    "plt.figure(figsize=(6,4))\n",
    "sns.countplot(x='label', data=df, palette = 'viridis')\n",
    "plt.title(\"distribution of spam vs ham\")\n",
    "plt.xlabel(\"mesage type\")\n",
    "plt.ylabel(\"count\")\n",
    "plt.show()"
   ]
  },
  {
   "cell_type": "code",
   "execution_count": null,
   "id": "9af39089",
   "metadata": {},
   "outputs": [],
   "source": []
  }
 ],
 "metadata": {
  "kernelspec": {
   "display_name": "base",
   "language": "python",
   "name": "python3"
  },
  "language_info": {
   "codemirror_mode": {
    "name": "ipython",
    "version": 3
   },
   "file_extension": ".py",
   "mimetype": "text/x-python",
   "name": "python",
   "nbconvert_exporter": "python",
   "pygments_lexer": "ipython3",
   "version": "3.13.5"
  }
 },
 "nbformat": 4,
 "nbformat_minor": 5
}
